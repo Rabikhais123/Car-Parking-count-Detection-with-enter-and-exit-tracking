{
 "cells": [
  {
   "cell_type": "code",
   "execution_count": 2,
   "metadata": {},
   "outputs": [],
   "source": [
    "\n",
    "import cv2\n",
    "import winsound"
   ]
  },
  {
   "cell_type": "code",
   "execution_count": 3,
   "metadata": {},
   "outputs": [],
   "source": [
    "freq=1500\n",
    "dur=100"
   ]
  },
  {
   "cell_type": "code",
   "execution_count": 4,
   "metadata": {},
   "outputs": [],
   "source": [
    "car_cascade=cv2.CascadeClassifier(r'C:\\Computer_Vision\\Traffic_Project\\cars.xml')"
   ]
  },
  {
   "cell_type": "code",
   "execution_count": 22,
   "metadata": {},
   "outputs": [],
   "source": [
    "\n",
    "\n",
    "\n",
    "# Capture the video feed\n",
    "cap = cv2.VideoCapture(r'C:\\Computer_Vision\\Traffic_Project\\parking.mp4')\n",
    "\n",
    "# Load the car detection cascade\n",
    "car_cascade = cv2.CascadeClassifier(r'C:\\Computer_Vision\\Traffic_Project\\cars.xml')\n",
    "\n",
    "\n",
    "\n",
    "car_count=0\n",
    "enter_cnt=0\n",
    "exit_count=0\n",
    "\n",
    "line1_start = (10, 120)\n",
    "line1_end = (330, 120)\n",
    "line2_start = (350, 110)\n",
    "line2_end = (550, 110)\n",
    "while True:\n",
    "    # Read a frame from the video feed\n",
    "    ret, frame = cap.read()\n",
    "    blur=cv2.blur(frame,(3,3))\n",
    "    gray=cv2.cvtColor(blur,cv2.COLOR_BGR2GRAY)\n",
    "    \n",
    "    cars = car_cascade.detectMultiScale(frame,1.1,3)\n",
    "\n",
    "    cv2.line(frame,line1_start,line1_end,(0,255,255),1)\n",
    "    cv2.line(frame,line2_start,line2_end,(0,255,255),1)\n",
    "    #gray1 = cv2.cvtColor(frame,cv2.COLOR_BGR2GRAY)\n",
    "\n",
    "    for (x,y,w,h) in cars:\n",
    "        centroid_x = x+w//2\n",
    "        centroid_y = y+h//2\n",
    "        centroid = (centroid_x, centroid_y)\n",
    "    if centroid_y<line1_start[1]+10 and centroid_y>line1_end[1]-10:\n",
    "        enter_cnt += 1\n",
    "\n",
    "    elif centroid_y < line2_start[1]+6 and centroid_y>line2_end[1]-6:\n",
    "         exit_count += 1\n",
    "\n",
    "    total_parking=8\n",
    "    available_parking=max(0,total_parking-enter_cnt+exit_count)\n",
    "\n",
    "    if available_parking==0:\n",
    "        cv2.putText(frame,'Parking Space Full!!!',(50,150),cv2.FONT_HERSHEY_COMPLEX,1,(0,0,255),thickness=2)\n",
    "        winsound.Beep(freq,dur)\n",
    "    cv2.rectangle(frame, (x, y), (x + w, y + h), (233, 233, 233), 2)\n",
    "    cv2.putText(frame,'Enter :',(10,30),cv2.FONT_HERSHEY_COMPLEX,0.8,(0,255,0),thickness=2)\n",
    "    cv2.putText(frame,'Exit  :',(10,60),cv2.FONT_HERSHEY_COMPLEX,0.8,(0,0,255),thickness=2)\n",
    "    cv2.putText(frame,str(enter_cnt),(130,30),cv2.FONT_HERSHEY_SIMPLEX,0.8,(0,255,0),thickness=2)\n",
    "    cv2.putText(frame,str(exit_count),(130,60),cv2.FONT_HERSHEY_SIMPLEX,0.8,(0,0,255),thickness=2)\n",
    "    cv2.putText(frame,'Available Parking Spaces :  '+str(available_parking),(20,350),cv2.FONT_HERSHEY_TRIPLEX,0.8,(0,0,0),thickness=2)\n",
    "\n",
    "    \n",
    "\n",
    "\n",
    "    \n",
    "         \n",
    "    \n",
    "        \n",
    "    \n",
    "  \n",
    "    cv2.imshow('Parking Spaces', frame)\n",
    "    if cv2.waitKey(1) & 0xFF == ord('q'):\n",
    "        break\n",
    "\n",
    "# Release the capture and close the window\n",
    "cap.release()\n",
    "cv2.destroyAllWindows()\n",
    "     \n"
   ]
  }
 ],
 "metadata": {
  "kernelspec": {
   "display_name": "Python 3",
   "language": "python",
   "name": "python3"
  },
  "language_info": {
   "codemirror_mode": {
    "name": "ipython",
    "version": 3
   },
   "file_extension": ".py",
   "mimetype": "text/x-python",
   "name": "python",
   "nbconvert_exporter": "python",
   "pygments_lexer": "ipython3",
   "version": "3.10.5"
  },
  "orig_nbformat": 4
 },
 "nbformat": 4,
 "nbformat_minor": 2
}
